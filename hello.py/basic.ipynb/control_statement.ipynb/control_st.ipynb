{
 "cells": [
  {
   "cell_type": "code",
   "execution_count": 4,
   "metadata": {},
   "outputs": [
    {
     "name": "stdout",
     "output_type": "stream",
     "text": [
      "Divisible by 7\n",
      "Hurray 💕\n",
      "the end\n"
     ]
    }
   ],
   "source": [
    "a=int(input(\"Enter number\"))\n",
    "if a % 7 == 0 :\n",
    "    print ('Divisible by 7')\n",
    "    print('Hurray 💕')\n",
    "print(\"the end\")"
   ]
  },
  {
   "cell_type": "code",
   "execution_count": 3,
   "metadata": {},
   "outputs": [
    {
     "name": "stdout",
     "output_type": "stream",
     "text": [
      "Password is too short\n"
     ]
    }
   ],
   "source": [
    "pwd = input('Enter Password')\n",
    "if len(pwd) >= 8:\n",
    "    print ('password is ok')\n",
    "else :\n",
    "    print('Password is too short')"
   ]
  },
  {
   "cell_type": "code",
   "execution_count": 6,
   "metadata": {},
   "outputs": [
    {
     "name": "stdout",
     "output_type": "stream",
     "text": [
      "Your Report\n",
      "Your Percentage :92.50%\n",
      "Grade :A\n"
     ]
    }
   ],
   "source": [
    "marks = int (input('Enter Marks'))\n",
    "total =600\n",
    "pct = marks / total *100\n",
    "if pct >= 90 :\n",
    "    grade = 'A'\n",
    "elif pct>=75 :\n",
    "    grade ='B';\n",
    "elif pct >= 60:\n",
    "    grade ='c';\n",
    "elif pct>=40:\n",
    "    grade ='D';\n",
    "else:\n",
    "    grade ='F';\n",
    "print(f'Your Report')\n",
    "print(f'Your Percentage :{pct:.2f}%')\n",
    "print(f'Grade :{grade}')\n",
    "\n",
    "\n"
   ]
  },
  {
   "cell_type": "code",
   "execution_count": 8,
   "metadata": {},
   "outputs": [
    {
     "name": "stdout",
     "output_type": "stream",
     "text": [
      "what is sq. rt of 16\n",
      "Correct\n"
     ]
    }
   ],
   "source": [
    "print(\"what is sq. rt of 16\")\n",
    "ans = int(input(\"answer\"))\n",
    "match ans :\n",
    "    case 2 :print ('Incorrect')\n",
    "    case 4 :print ('Correct')\n",
    "    case _:print ('absurd')\n",
    "\n"
   ]
  },
  {
   "cell_type": "markdown",
   "metadata": {},
   "source": [
    "loops\n",
    " for loop -iteration based\n",
    " while loop - iteration based"
   ]
  },
  {
   "cell_type": "markdown",
   "metadata": {},
   "source": [
    "movies = []"
   ]
  },
  {
   "cell_type": "code",
   "execution_count": 1,
   "metadata": {},
   "outputs": [
    {
     "name": "stdout",
     "output_type": "stream",
     "text": [
      "jab we met\n",
      "pulp fiction\n",
      "fighter\n",
      "jawaan\n"
     ]
    }
   ],
   "source": [
    "movies = ['jab we met','pulp fiction','fighter','jawaan']\n",
    "for movie in movies:\n",
    "    print (movie)"
   ]
  },
  {
   "cell_type": "code",
   "execution_count": 3,
   "metadata": {},
   "outputs": [
    {
     "name": "stdout",
     "output_type": "stream",
     "text": [
      "100\n",
      "102\n",
      "104\n",
      "106\n",
      "108\n",
      "110\n"
     ]
    }
   ],
   "source": [
    "for i in range (100,111,2):\n",
    "    print(i)"
   ]
  },
  {
   "cell_type": "code",
   "execution_count": 4,
   "metadata": {},
   "outputs": [
    {
     "name": "stdout",
     "output_type": "stream",
     "text": [
      "10\n",
      "9\n",
      "8\n",
      "7\n",
      "6\n",
      "5\n",
      "4\n",
      "3\n",
      "2\n",
      "1\n"
     ]
    }
   ],
   "source": [
    "for a in range(10,0,-1):\n",
    "    print(a)"
   ]
  },
  {
   "cell_type": "code",
   "execution_count": 8,
   "metadata": {},
   "outputs": [
    {
     "name": "stdout",
     "output_type": "stream",
     "text": [
      "2450\n"
     ]
    }
   ],
   "source": [
    "#way2 sum of all numbers from 0 to 100\n",
    "total=0\n",
    "for i in range(0,100,2):\n",
    "    total+=i\n",
    "print(total)"
   ]
  },
  {
   "cell_type": "code",
   "execution_count": 9,
   "metadata": {},
   "outputs": [
    {
     "data": {
      "text/plain": [
       "2450"
      ]
     },
     "execution_count": 9,
     "metadata": {},
     "output_type": "execute_result"
    }
   ],
   "source": [
    "#way2 sum of all numbers from 0 to 100\n",
    "sum(\n",
    "    range(0,100,2)\n",
    ")"
   ]
  },
  {
   "cell_type": "code",
   "execution_count": 12,
   "metadata": {},
   "outputs": [
    {
     "name": "stdout",
     "output_type": "stream",
     "text": [
      "24\n"
     ]
    }
   ],
   "source": [
    "#wap to display factorial of a number(chatgpt)"
   ]
  },
  {
   "cell_type": "code",
   "execution_count": 14,
   "metadata": {},
   "outputs": [
    {
     "name": "stdout",
     "output_type": "stream",
     "text": [
      "1\n",
      "2\n",
      "3\n",
      "4\n",
      "5\n",
      "6\n",
      "7\n",
      "8\n",
      "9\n"
     ]
    }
   ],
   "source": [
    "i = 1\n",
    "while i < 10:\n",
    "    print(i)\n",
    "    i+=1"
   ]
  },
  {
   "cell_type": "code",
   "execution_count": 15,
   "metadata": {},
   "outputs": [
    {
     "name": "stdout",
     "output_type": "stream",
     "text": [
      "1\n",
      "2\n",
      "3\n",
      "4\n",
      "5\n",
      "6\n",
      "7\n",
      "8\n",
      "9\n"
     ]
    }
   ],
   "source": [
    "i = 1\n",
    "while i < 10:\n",
    "    print(i)\n",
    "    i+=1"
   ]
  },
  {
   "cell_type": "code",
   "execution_count": null,
   "metadata": {},
   "outputs": [],
   "source": []
  }
 ],
 "metadata": {
  "kernelspec": {
   "display_name": "base",
   "language": "python",
   "name": "python3"
  },
  "language_info": {
   "codemirror_mode": {
    "name": "ipython",
    "version": 3
   },
   "file_extension": ".py",
   "mimetype": "text/x-python",
   "name": "python",
   "nbconvert_exporter": "python",
   "pygments_lexer": "ipython3",
   "version": "3.11.5"
  }
 },
 "nbformat": 4,
 "nbformat_minor": 2
}
