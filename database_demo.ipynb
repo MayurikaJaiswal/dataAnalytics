{
 "cells": [
  {
   "cell_type": "code",
   "execution_count": 2,
   "metadata": {},
   "outputs": [],
   "source": [
    "from database import user,Message\n",
    "from database import get_db,add_to_db"
   ]
  },
  {
   "cell_type": "code",
   "execution_count": 3,
   "metadata": {},
   "outputs": [
    {
     "name": "stdout",
     "output_type": "stream",
     "text": [
      "Data added to the database\n"
     ]
    }
   ],
   "source": [
    "u1=user(name=\"Ramesh\",email=\"ramesh@gmail.com\",password='1234')\n",
    "u2=user(name=\"Ram\",email=\"ram@gmail.com\",password='2234')\n",
    "u3=user(name=\"Ramsha\",email=\"ramsh@gmail.com\",password='4234')\n",
    "add_to_db(u1)\n",
    "add_to_db(u2)\n",
    "add_to_db(u3)\n",
    "print(\"Data added to the database\")"
   ]
  },
  {
   "cell_type": "code",
   "execution_count": 7,
   "metadata": {},
   "outputs": [
    {
     "name": "stdout",
     "output_type": "stream",
     "text": [
      "Data added to the database\n"
     ]
    }
   ],
   "source": [
    "m1=Message(message=\"good\",user_id=\"123\")\n",
    "m2=Message(message=\"good\",user_id=\"567\")\n",
    "m3=Message(message=\"nice\",user_id=\"789\")\n",
    "add_to_db(m1)\n",
    "add_to_db(m2)\n",
    "add_to_db(m3)\n",
    "print(\"Data added to the database\")"
   ]
  },
  {
   "cell_type": "code",
   "execution_count": null,
   "metadata": {},
   "outputs": [],
   "source": []
  }
 ],
 "metadata": {
  "kernelspec": {
   "display_name": "base",
   "language": "python",
   "name": "python3"
  },
  "language_info": {
   "codemirror_mode": {
    "name": "ipython",
    "version": 3
   },
   "file_extension": ".py",
   "mimetype": "text/x-python",
   "name": "python",
   "nbconvert_exporter": "python",
   "pygments_lexer": "ipython3",
   "version": "3.11.5"
  }
 },
 "nbformat": 4,
 "nbformat_minor": 2
}
