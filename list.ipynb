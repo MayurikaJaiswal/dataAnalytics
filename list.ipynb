{
 "cells": [
  {
   "cell_type": "markdown",
   "metadata": {},
   "source": [
    "# collection\n",
    "  - list⭐\n",
    "     - indexed\n",
    "     - orderd\n",
    "     - hetrogenous\n",
    "     - duplicate item exist\n",
    "     - nesting\n",
    "     - representation[]\n",
    "     - constructoro method list()\n",
    "     - mutable\n",
    "- tuple\n",
    "- set\n",
    "- dict⭐"
   ]
  },
  {
   "cell_type": "code",
   "execution_count": 13,
   "metadata": {},
   "outputs": [
    {
     "name": "stdout",
     "output_type": "stream",
     "text": [
      "list1[-1]= arun\n",
      "list2[0]= 4\n",
      "list3[2]= 22\n",
      "list4[3]= [1, 2, 3]\n",
      "list2[0]= [4, 5, 7, 4]\n"
     ]
    }
   ],
   "source": [
    "#define list in python\n",
    "\n",
    "#list of strings\n",
    "list1 = [\"khushi\",\"vaishnavi\",\"mayurika\",\"nilesh\",\"arun\"]\n",
    "\n",
    "#list of numbers\n",
    "list2 = [1,2,3,4,5,7,4,55,77]\n",
    "\n",
    "#mixed data list\n",
    "list3 = ['ravi',2,22,42,'b',False,5.782]\n",
    "\n",
    "#Nested List\n",
    "list4 =[[1,2,3],[3,4,5,6],[8,7,9]]\n",
    "\n",
    "#last item\n",
    "print('list1[-1]=',list1[-1])\n",
    "\n",
    "#last 3rd item\n",
    "print('list2[0]=',list2[-3]) \n",
    "\n",
    "#3nd item\n",
    "print('list3[2]=',list3[2])\n",
    "\n",
    "#1st item \n",
    "print('list4[3]=',list4[0])\n",
    "\n",
    "#4th item  to last second item\n",
    "print('list2[0]=',list2[3:-2])"
   ]
  },
  {
   "cell_type": "code",
   "execution_count": 16,
   "metadata": {},
   "outputs": [
    {
     "name": "stdout",
     "output_type": "stream",
     "text": [
      "[1, 2, 3, 4, 5]\n",
      "[1, 2, 3, 4, 5]\n",
      "[7, 4, 55, 77]\n"
     ]
    }
   ],
   "source": [
    "#index less then 5 item\n",
    "slice1 = list2[:5]\n",
    "\n",
    "#index b/w 0 & 5 item\n",
    "slice2 = list2[0:5]\n",
    "\n",
    "\n",
    "slice3 = list2[5:len(list2)]\n",
    "print(slice1)\n",
    "print(slice2)\n",
    "print(slice3)"
   ]
  },
  {
   "cell_type": "code",
   "execution_count": 19,
   "metadata": {},
   "outputs": [
    {
     "data": {
      "text/plain": [
       "['apple', 'guava', 'banana', 'strawberry']"
      ]
     },
     "execution_count": 19,
     "metadata": {},
     "output_type": "execute_result"
    }
   ],
   "source": [
    "#append function (at last)\n",
    "\n",
    "fruits = []\n",
    "fruits.append('apple')\n",
    "fruits.append('guava')\n",
    "fruits.append('banana')\n",
    "fruits.append('strawberry')\n",
    "fruits"
   ]
  },
  {
   "cell_type": "code",
   "execution_count": 35,
   "metadata": {},
   "outputs": [
    {
     "data": {
      "text/plain": [
       "['almond', 'canberry', 'cashew', 'orange', 'walnut']"
      ]
     },
     "execution_count": 35,
     "metadata": {},
     "output_type": "execute_result"
    }
   ],
   "source": [
    "#insert function (at any position)\n",
    "fruit =['apple','banana','canberry']\n",
    "\n",
    "fruit.insert(1,\"orange\")\n",
    "#print(fruits)\n",
    "\n",
    " #extend function \n",
    "\n",
    "dry_fruits = ['almond','cashew','walnut']\n",
    "\n",
    "fruit.extend(dry_fruits)\n",
    "\n",
    "\n",
    "fruit.sort()\n",
    "\n",
    "\n",
    "fruit.remove('apple')\n",
    "\n",
    "fruit.pop(1)\n",
    "\n",
    "fruit"
   ]
  },
  {
   "cell_type": "code",
   "execution_count": 39,
   "metadata": {},
   "outputs": [
    {
     "data": {
      "text/plain": [
       "3"
      ]
     },
     "execution_count": 39,
     "metadata": {},
     "output_type": "execute_result"
    }
   ],
   "source": [
    "x=[1,3,5,8,4,4,6,7,8,8,7,3,4,5]\n",
    "x.count(8)  #counts occurrene"
   ]
  },
  {
   "cell_type": "code",
   "execution_count": null,
   "metadata": {},
   "outputs": [],
   "source": []
  }
 ],
 "metadata": {
  "kernelspec": {
   "display_name": "base",
   "language": "python",
   "name": "python3"
  },
  "language_info": {
   "codemirror_mode": {
    "name": "ipython",
    "version": 3
   },
   "file_extension": ".py",
   "mimetype": "text/x-python",
   "name": "python",
   "nbconvert_exporter": "python",
   "pygments_lexer": "ipython3",
   "version": "3.11.5"
  }
 },
 "nbformat": 4,
 "nbformat_minor": 2
}
